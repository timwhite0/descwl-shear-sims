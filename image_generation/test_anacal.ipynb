{
 "cells": [
  {
   "cell_type": "code",
   "execution_count": null,
   "metadata": {},
   "outputs": [],
   "source": [
    "import torch\n",
    "import matplotlib.pyplot as plt\n",
    "\n",
    "from scipy.stats import linregress"
   ]
  },
  {
   "cell_type": "code",
   "execution_count": null,
   "metadata": {},
   "outputs": [],
   "source": [
    "results_dir = \"anacal_results_density240/\""
   ]
  },
  {
   "cell_type": "code",
   "execution_count": null,
   "metadata": {},
   "outputs": [],
   "source": [
    "catalogs = torch.load(results_dir + \"catalogs.pt\")\n",
    "true_shear1 = torch.tensor([cat[0]['g1'] for cat in catalogs])\n",
    "true_shear2 = torch.tensor([cat[0]['g2'] for cat in catalogs])"
   ]
  },
  {
   "cell_type": "code",
   "execution_count": null,
   "metadata": {},
   "outputs": [],
   "source": [
    "num_images = true_shear1.shape[0]\n",
    "print(f\"Number of images: {num_images}\")"
   ]
  },
  {
   "cell_type": "code",
   "execution_count": null,
   "metadata": {},
   "outputs": [],
   "source": [
    "e1_sum = torch.load(results_dir + \"e1_sum.pt\")[:num_images]\n",
    "e1g1_sum = torch.load(results_dir + \"e1g1_sum.pt\")[:num_images]\n",
    "e2_sum = torch.load(results_dir + \"e2_sum.pt\")[:num_images]\n",
    "e2g2_sum = torch.load(results_dir + \"e2g2_sum.pt\")[:num_images]\n",
    "num_detections = torch.load(results_dir + \"num_detections.pt\")[:num_images]"
   ]
  },
  {
   "cell_type": "code",
   "execution_count": null,
   "metadata": {},
   "outputs": [],
   "source": [
    "e1_avg = e1_sum / num_detections\n",
    "e2_avg = e2_sum / num_detections\n",
    "R1 = e1g1_sum.sum() / num_detections.sum()\n",
    "R2 = e2g2_sum.sum() / num_detections.sum()\n",
    "print(f\"Estimated R1 = {R1}\")\n",
    "print(f\"Estimated R2 = {R2}\")\n",
    "est_shear1 = e1_avg / R1\n",
    "est_shear2 = e2_avg / R2"
   ]
  },
  {
   "cell_type": "code",
   "execution_count": null,
   "metadata": {},
   "outputs": [],
   "source": [
    "fig, ax = plt.subplots(1, 2, figsize = (9, 4))\n",
    "\n",
    "_ = ax[0].scatter(true_shear1, est_shear1, color = 'forestgreen', alpha = 0.25)\n",
    "_ = ax[0].axline((0,0), slope = 1, linestyle = 'dashed', color = 'black')\n",
    "_ = ax[0].set_xlabel(\"$\\gamma_1$\")\n",
    "_ = ax[0].set_ylabel(\"$\\widehat{\\gamma}_1$\")\n",
    "_ = ax[0].set_xlim(-0.075, 0.075)\n",
    "_ = ax[0].set_ylim(-0.075, 0.075)\n",
    "\n",
    "_ = ax[1].scatter(true_shear2, est_shear2, color = 'forestgreen', alpha = 0.25)\n",
    "_ = ax[1].axline((0,0), slope = 1, linestyle = 'dashed', color = 'black')\n",
    "_ = ax[1].set_xlabel(\"$\\gamma_2$\")\n",
    "_ = ax[1].set_ylabel(\"$\\widehat{\\gamma}_2$\")\n",
    "_ = ax[1].set_xlim(-0.075, 0.075)\n",
    "_ = ax[1].set_ylim(-0.075, 0.075)\n",
    "\n",
    "_ = fig.tight_layout()"
   ]
  },
  {
   "cell_type": "code",
   "execution_count": null,
   "metadata": {},
   "outputs": [],
   "source": [
    "lr1 = linregress(true_shear1.flatten().cpu().numpy(), est_shear1.flatten().cpu().numpy())\n",
    "lr2 = linregress(true_shear2.flatten().cpu().numpy(), est_shear2.flatten().cpu().numpy())\n",
    "\n",
    "print(f\"Shear 1:\\nc ± 3SE = {lr1.intercept:.6f} ± {3 * lr1.intercept_stderr:.6f}, m ± 3SE = {lr1.slope - 1:.6f} ± {3*lr1.stderr}\\n\")\n",
    "print(f\"Shear 2:\\nc ± 3SE = {lr2.intercept:.6f} ± {3 * lr2.intercept_stderr:.6f}, m ± 3SE = {lr2.slope - 1:.6f} ± {3*lr2.stderr}\")"
   ]
  }
 ],
 "metadata": {
  "kernelspec": {
   "display_name": "lsst-scipipe-9.0.0",
   "language": "python",
   "name": "python3"
  },
  "language_info": {
   "codemirror_mode": {
    "name": "ipython",
    "version": 3
   },
   "file_extension": ".py",
   "mimetype": "text/x-python",
   "name": "python",
   "nbconvert_exporter": "python",
   "pygments_lexer": "ipython3",
   "version": "3.11.11"
  }
 },
 "nbformat": 4,
 "nbformat_minor": 2
}
