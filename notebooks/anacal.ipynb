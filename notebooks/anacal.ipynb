{
 "cells": [
  {
   "cell_type": "code",
   "execution_count": 1,
   "metadata": {},
   "outputs": [],
   "source": [
    "import os\n",
    "import torch\n",
    "import numpy as np\n",
    "import matplotlib.pyplot as plt\n",
    "from tqdm import tqdm\n",
    "\n",
    "from descwl_shear_sims.galaxies import WLDeblendGalaxyCatalog\n",
    "from descwl_shear_sims.sim import make_sim\n",
    "from descwl_shear_sims.psfs import make_fixed_psf\n",
    "from descwl_shear_sims.layout.layout import Layout\n",
    "\n",
    "import anacal\n",
    "\n",
    "from scipy.stats import linregress"
   ]
  },
  {
   "cell_type": "markdown",
   "metadata": {},
   "source": [
    "As described in the \"Getting the Simulation Input Data\" section of the `descwl-shear-sims` README, run the following commands in the terminal in the same path as this notebook:\n",
    "\n",
    "```\n",
    "wget https://www.cosmo.bnl.gov/www/esheldon/data/catsim.tar.gz\n",
    "tar xvfz catsim.tar.gz\n",
    "```"
   ]
  },
  {
   "cell_type": "markdown",
   "metadata": {},
   "source": [
    "Set the `catsim` path:"
   ]
  },
  {
   "cell_type": "code",
   "execution_count": 2,
   "metadata": {},
   "outputs": [],
   "source": [
    "os.environ['CATSIM_DIR'] = 'catsim' "
   ]
  },
  {
   "cell_type": "markdown",
   "metadata": {},
   "source": [
    "We define some functions for extracting PSF arrays and generating images:"
   ]
  },
  {
   "cell_type": "code",
   "execution_count": 3,
   "metadata": {},
   "outputs": [],
   "source": [
    "def get_psf_param(psf_obj, pixel_scale, psf_size):\n",
    "    center_pos = (psf_size / 2.0, psf_size / 2.0)\n",
    "    x_pixels = np.arange(psf_size)\n",
    "    y_pixels = np.arange(psf_size)\n",
    "\n",
    "    X, Y = np.meshgrid(x_pixels, y_pixels, indexing='ij')\n",
    "    \n",
    "    psf_image = psf_obj.drawImage(scale=pixel_scale, nx=psf_size, ny=psf_size)\n",
    "\n",
    "    psf_array = psf_image.array\n",
    "    \n",
    "    return {\n",
    "        'center_pos': center_pos,\n",
    "        'coordinates': (X, Y),\n",
    "        'psf_image': psf_array,\n",
    "        'psf_object': psf_obj\n",
    "    }"
   ]
  },
  {
   "cell_type": "code",
   "execution_count": 4,
   "metadata": {},
   "outputs": [],
   "source": [
    "def generate_one_image_and_catalog(\n",
    "        rng, psf, layout, shifts, g1, g2,\n",
    "        select_observable, select_lower_limit, select_upper_limit, coadd_dim, buff, bands, \n",
    "        noise_factor, dither, dither_size, rotate, cosmic_rays, bad_columns,\n",
    "    ):\n",
    "    galaxy_catalog = WLDeblendGalaxyCatalog(\n",
    "        rng=rng,\n",
    "        coadd_dim=coadd_dim,\n",
    "        buff=buff,\n",
    "        layout=layout,\n",
    "        select_observable=select_observable,\n",
    "        select_lower_limit=select_lower_limit,\n",
    "        select_upper_limit=select_upper_limit\n",
    "    )\n",
    "    \n",
    "    galaxy_catalog.shifts_array = shifts\n",
    "    num = len(galaxy_catalog.shifts_array)\n",
    "    galaxy_catalog.indices = galaxy_catalog.rng.randint(0, galaxy_catalog._wldeblend_cat.size,size=num)\n",
    "    galaxy_catalog.angles = galaxy_catalog.rng.uniform(low=0, high=360, size=num)\n",
    "    magnitude = galaxy_catalog._wldeblend_cat[galaxy_catalog.indices][\"i_ab\"]\n",
    "\n",
    "    galaxy_catalog.shifts_array = shifts\n",
    "    magnitude = []\n",
    "\n",
    "    sim_data = make_sim(\n",
    "        rng=rng,\n",
    "        galaxy_catalog=galaxy_catalog,\n",
    "        coadd_dim=coadd_dim,\n",
    "        g1=g1,\n",
    "        g2=g2,\n",
    "        bands=bands,\n",
    "        psf=psf,\n",
    "        noise_factor=noise_factor,\n",
    "        dither=dither,\n",
    "        dither_size=dither_size,\n",
    "        rotate=rotate,\n",
    "        cosmic_rays=cosmic_rays,\n",
    "        bad_columns=bad_columns,\n",
    "    )\n",
    "\n",
    "    truth = sim_data['truth_info']\n",
    "    image_x_positions = truth['image_x']\n",
    "    image_y_positions = truth['image_y']\n",
    "\n",
    "    x_pos_copy = np.array(image_x_positions, copy=True)\n",
    "    y_pos_copy = np.array(image_y_positions, copy=True)\n",
    "    \n",
    "    positions_tensor = torch.stack([\n",
    "        torch.from_numpy(x_pos_copy),\n",
    "        torch.from_numpy(y_pos_copy)\n",
    "    ], dim=1).float()\n",
    "    \n",
    "    M = len(image_x_positions)\n",
    "\n",
    "    n_bands = len(bands)\n",
    "    first_band = bands[0]\n",
    "    h, w = sim_data['band_data'][first_band][0].image.array.shape\n",
    "    \n",
    "    image_tensor = torch.zeros(n_bands, h, w, dtype=torch.float32)\n",
    "    \n",
    "    for i, band in enumerate(bands):\n",
    "        image_np = sim_data['band_data'][band][0].image.array\n",
    "        image_tensor[i] = torch.from_numpy(image_np.copy())\n",
    "    \n",
    "    return image_tensor, positions_tensor, M, magnitude"
   ]
  },
  {
   "cell_type": "code",
   "execution_count": 5,
   "metadata": {},
   "outputs": [],
   "source": [
    "def generate_many_images_and_catalogs(\n",
    "        num_images, seed, layout_name, coadd_dim, buff, pixel_scale, density,\n",
    "        select_observable, select_lower_limit, select_upper_limit,\n",
    "        psf_type, psf_fwhm, bands, noise_factor, dither, dither_size, rotate,\n",
    "        cosmic_rays, bad_columns, psf_size,\n",
    "    ):\n",
    "    \n",
    "    print(f\"Generating {num_images} images sequentially...\")\n",
    "    print(f\"Bands: {bands}\")\n",
    "    print(f\"Galaxy density: {density}\")\n",
    "\n",
    "    # Setup\n",
    "    rng = np.random.RandomState(seed)\n",
    "    \n",
    "    # Sample shear1 and shear2 from Normal(0, 0.015^2)\n",
    "    rng_shear = np.random.RandomState(seed + 1234)\n",
    "    g1 = rng_shear.normal(0.0, 0.015, num_images).astype(np.float32)\n",
    "    g2 = rng_shear.normal(0.0, 0.015, num_images).astype(np.float32)\n",
    "    \n",
    "    layout = Layout(\n",
    "        layout_name=layout_name,\n",
    "        coadd_dim=coadd_dim,\n",
    "        pixel_scale=pixel_scale,\n",
    "        buff=buff\n",
    "    )\n",
    "    shifts = layout.get_shifts(rng, density=density)\n",
    "    \n",
    "    psf = make_fixed_psf(psf_type=psf_type, psf_fwhm=psf_fwhm)\n",
    "    \n",
    "    # Storage for results\n",
    "    n_bands = len(bands)\n",
    "    images_tensor = torch.zeros(num_images, n_bands, 2048, 2048, dtype=torch.float32)\n",
    "    catalogs = []\n",
    "    psf_params = []\n",
    "    \n",
    "    # Generate images\n",
    "    for i in tqdm(range(num_images), desc=\"Generating images\"):\n",
    "        image_tensor, positions_tensor, M, magnitude = generate_one_image_and_catalog(\n",
    "            rng=rng, psf=psf, layout=layout, shifts=shifts, \n",
    "            g1=g1[i], g2=g2[i],\n",
    "            select_observable=select_observable, select_lower_limit=select_lower_limit, select_upper_limit=select_upper_limit, \n",
    "            coadd_dim=coadd_dim, buff=buff, bands=bands, \n",
    "            noise_factor=noise_factor, dither=dither, dither_size=dither_size, rotate=rotate, \n",
    "            cosmic_rays=cosmic_rays, bad_columns=bad_columns,\n",
    "        )\n",
    "        \n",
    "        crop_size = 2048\n",
    "        if crop_size < image_tensor.shape[1]:\n",
    "            H, W = image_tensor.shape[1], image_tensor.shape[2]\n",
    "            start_h = (H - crop_size) // 2\n",
    "            start_w = (W - crop_size) // 2\n",
    "            image_tensor = image_tensor[:, start_h:start_h + crop_size, start_w:start_w + crop_size]\n",
    "\n",
    "        images_tensor[i] = image_tensor\n",
    "        catalogs.append({\n",
    "            'positions': positions_tensor,\n",
    "            'n_sources': M,\n",
    "            'g1': g1[i],\n",
    "            'g2': g2[i],\n",
    "            'magnitude': magnitude\n",
    "        })\n",
    "        \n",
    "        psf_param = get_psf_param(psf, pixel_scale=pixel_scale, psf_size=psf_size)\n",
    "        psf_params.append(psf_param)\n",
    "    \n",
    "    print(f\"Generated {num_images} images successfully\")\n",
    "    \n",
    "    return images_tensor, catalogs, psf_params"
   ]
  },
  {
   "cell_type": "markdown",
   "metadata": {},
   "source": [
    "We define our simulation settings and generate a batch of images:"
   ]
  },
  {
   "cell_type": "code",
   "execution_count": 6,
   "metadata": {},
   "outputs": [],
   "source": [
    "num_images = 100\n",
    "seed = 1234\n",
    "\n",
    "\n",
    "psf_type = \"moffat\"          # \"moffat\" or \"gauss\"\n",
    "psf_size = 64\n",
    "psf_fwhm = 0.8              \n",
    "\n",
    "\n",
    "pixel_scale = 0.2            # 0.2 is default\n",
    "layout_name = 'random'       # 'random' or 'grid'\n",
    "coadd_dim = 2550             # without rotation, image dim is coadd_dim + 1\n",
    "buff = 0                     # 0 is default\n",
    "bands = ['i']                # ['i'] is default\n",
    "noise_factor = 1             # 0.58 is default\n",
    "dither = False               # False is default\n",
    "dither_size = 0.5            # 0.5 is default, but doesn't matter if dither = False\n",
    "rotate = False               # False is default\n",
    "cosmic_rays = False          # Set to True to add cosmic rays\n",
    "bad_columns = False          # Set to True to add bad columns\n",
    "\n",
    "density = 80                 # GALAXY density: per square arcmin, 80 is default  \n",
    "\n",
    "catalog_type = 'wldeblend'   # 'wldeblend' or 'fixed'   \n",
    "select_observable = 'i_ab'   # column name in the WLDEBlend catalog\n",
    "select_lower_limit = None\n",
    "select_upper_limit = 27"
   ]
  },
  {
   "cell_type": "code",
   "execution_count": 7,
   "metadata": {},
   "outputs": [
    {
     "name": "stdout",
     "output_type": "stream",
     "text": [
      "Generating 100 images sequentially...\n",
      "Bands: ['i']\n",
      "Galaxy density: 80\n"
     ]
    },
    {
     "name": "stderr",
     "output_type": "stream",
     "text": [
      "Generating images: 100%|██████████| 100/100 [10:59<00:00,  6.60s/it]"
     ]
    },
    {
     "name": "stdout",
     "output_type": "stream",
     "text": [
      "Generated 100 images successfully\n"
     ]
    },
    {
     "name": "stderr",
     "output_type": "stream",
     "text": [
      "\n"
     ]
    }
   ],
   "source": [
    "images, catalogs, psf_params = generate_many_images_and_catalogs(\n",
    "    num_images=num_images, seed=seed, layout_name=layout_name, coadd_dim=coadd_dim, buff=buff, pixel_scale=pixel_scale, density=density,\n",
    "    select_observable=select_observable, select_lower_limit=select_lower_limit, select_upper_limit=select_upper_limit,\n",
    "    psf_type=psf_type, psf_fwhm=psf_fwhm, bands=bands, noise_factor=noise_factor, dither=dither, dither_size=dither_size, rotate=rotate,\n",
    "    cosmic_rays=cosmic_rays, bad_columns=bad_columns, psf_size=psf_size\n",
    ")"
   ]
  },
  {
   "cell_type": "markdown",
   "metadata": {},
   "source": [
    "If you'd like, you can uncomment the following lines to save the generated images, catalogs, and PSF parameters:"
   ]
  },
  {
   "cell_type": "code",
   "execution_count": 8,
   "metadata": {},
   "outputs": [],
   "source": [
    "# torch.save(images, 'path_to_save/images.pt')\n",
    "# torch.save(catalogs, 'path_to_save/catalogs.pt')\n",
    "# torch.save(psf_params, 'path_to_save/psf_params.pt') "
   ]
  },
  {
   "cell_type": "markdown",
   "metadata": {},
   "source": [
    "Now we run AnaCal on each of the images generated above:"
   ]
  },
  {
   "cell_type": "code",
   "execution_count": 9,
   "metadata": {},
   "outputs": [],
   "source": [
    "def convert_for_anacal(catalogs, psf_params):    \n",
    "    g1_values = torch.tensor([cat['g1'] for cat in catalogs], dtype=torch.float32)\n",
    "    g2_values = torch.tensor([cat['g2'] for cat in catalogs], dtype=torch.float32)\n",
    "    \n",
    "    anacal_catalog = {\n",
    "        'shear_1': g1_values,\n",
    "        'shear_2': g2_values,\n",
    "    }\n",
    "    \n",
    "    anacal_psf = []\n",
    "    for psf_param in psf_params:\n",
    "        psf_image = psf_param['psf_image']\n",
    "        if isinstance(psf_image, torch.Tensor):\n",
    "            psf_image = psf_image.numpy()\n",
    "        anacal_psf.append({'psf_image': psf_image.astype(np.float64)})\n",
    "        \n",
    "    return anacal_catalog, anacal_psf"
   ]
  },
  {
   "cell_type": "code",
   "execution_count": 10,
   "metadata": {},
   "outputs": [],
   "source": [
    "def anacal_estimate(image, psf, catalog, npix):\n",
    "    catalog, psf = convert_for_anacal(catalog, psf)\n",
    "    true_shear1 = catalog['shear_1']\n",
    "    true_shear2 = catalog['shear_2']\n",
    "\n",
    "    fpfs_config = anacal.fpfs.FpfsConfig(\n",
    "        npix=npix,\n",
    "        sigma_arcsec=0.52,\n",
    "    )\n",
    "\n",
    "    mag_zero = 30.0\n",
    "    pixel_scale = 0.2\n",
    "    noise_variance = 0.23**2.0\n",
    "    noise_array = None\n",
    "    detection = None\n",
    "\n",
    "    band = 0\n",
    "\n",
    "    est_shear1 = torch.zeros(len(image))\n",
    "    est_shear2 = torch.zeros(len(image))\n",
    "\n",
    "    for i in range(len(image)):\n",
    "        gal_array = image[i,band]\n",
    "        psf_array = psf[i]['psf_image']\n",
    "\n",
    "        out = anacal.fpfs.process_image(\n",
    "            fpfs_config=fpfs_config,\n",
    "            mag_zero=mag_zero,\n",
    "            gal_array=gal_array,\n",
    "            psf_array=psf_array,\n",
    "            pixel_scale=pixel_scale,\n",
    "            noise_variance=noise_variance,\n",
    "            noise_array=noise_array,\n",
    "            detection=detection,\n",
    "        )\n",
    "\n",
    "        e1 = out[\"fpfs_w\"] * out[\"fpfs_e1\"]\n",
    "        e1g1 = out[\"fpfs_dw_dg1\"] * out[\"fpfs_e1\"] + out[\"fpfs_w\"] * out[\"fpfs_de1_dg1\"]\n",
    "\n",
    "        est_shear1[i] = np.sum(e1) / np.sum(e1g1)\n",
    "\n",
    "        e2 = out[\"fpfs_w\"] * out[\"fpfs_e2\"]\n",
    "        e2g2 = out[\"fpfs_dw_dg2\"] * out[\"fpfs_e2\"] + out[\"fpfs_w\"] * out[\"fpfs_de2_dg2\"]\n",
    "        \n",
    "        est_shear2[i] = np.sum(e2) / np.sum(e2g2)\n",
    "\n",
    "    return est_shear1, est_shear2, true_shear1, true_shear2"
   ]
  },
  {
   "cell_type": "code",
   "execution_count": 11,
   "metadata": {},
   "outputs": [],
   "source": [
    "est_shear1, est_shear2, true_shear1, true_shear2 = anacal_estimate(images, psf_params, catalogs, 64)"
   ]
  },
  {
   "cell_type": "markdown",
   "metadata": {},
   "source": [
    "We plot the true vs. estimated shear1 and shear2:"
   ]
  },
  {
   "cell_type": "code",
   "execution_count": 12,
   "metadata": {},
   "outputs": [
    {
     "data": {
      "image/png": "[encoded data removed]",
      "text/plain": [
       "<Figure size 900x400 with 2 Axes>"
      ]
     },
     "metadata": {},
     "output_type": "display_data"
    }
   ],
   "source": [
    "fig, ax = plt.subplots(1, 2, figsize = (9, 4))\n",
    "\n",
    "_ = ax[0].scatter(true_shear1, est_shear1, color = 'forestgreen')\n",
    "_ = ax[0].axline((0,0), slope = 1, linestyle = 'dashed', color = 'black')\n",
    "_ = ax[0].set_xlabel(\"$\\gamma_1$\")\n",
    "_ = ax[0].set_ylabel(\"$\\widehat{\\gamma}_1$\")\n",
    "_ = ax[0].set_xlim(-0.1, 0.1)\n",
    "_ = ax[0].set_ylim(-0.1, 0.1)\n",
    "\n",
    "_ = ax[1].scatter(true_shear2, est_shear2, color = 'forestgreen')\n",
    "_ = ax[1].axline((0,0), slope = 1, linestyle = 'dashed', color = 'black')\n",
    "_ = ax[1].set_xlabel(\"$\\gamma_2$\")\n",
    "_ = ax[1].set_ylabel(\"$\\widehat{\\gamma}_2$\")\n",
    "_ = ax[1].set_xlim(-0.1, 0.1)\n",
    "_ = ax[1].set_ylim(-0.1, 0.1)\n",
    "\n",
    "_ = fig.tight_layout()"
   ]
  },
  {
   "cell_type": "markdown",
   "metadata": {},
   "source": [
    "Finally, we estimate the additive and multiplicative biases of our shear estimates:"
   ]
  },
  {
   "cell_type": "code",
   "execution_count": 13,
   "metadata": {},
   "outputs": [
    {
     "name": "stdout",
     "output_type": "stream",
     "text": [
      "Shear 1:\n",
      "c ± 3SE = -0.002430 ± 0.004560, m ± 3SE = 0.322434 ± 0.282602260957017\n",
      "\n",
      "Shear 2:\n",
      "c ± 3SE = -0.001496 ± 0.007010, m ± 3SE = -0.062331 ± 0.4868020708998585\n"
     ]
    }
   ],
   "source": [
    "lr1 = linregress(true_shear1.flatten().cpu().numpy(), est_shear1.flatten().cpu().numpy())\n",
    "lr2 = linregress(true_shear2.flatten().cpu().numpy(), est_shear2.flatten().cpu().numpy())\n",
    "\n",
    "print(f\"Shear 1:\\nc ± 3SE = {lr1.intercept:.6f} ± {3 * lr1.intercept_stderr:.6f}, m ± 3SE = {lr1.slope - 1:.6f} ± {3*lr1.stderr}\\n\")\n",
    "print(f\"Shear 2:\\nc ± 3SE = {lr2.intercept:.6f} ± {3 * lr2.intercept_stderr:.6f}, m ± 3SE = {lr2.slope - 1:.6f} ± {3*lr2.stderr}\")"
   ]
  }
 ],
 "metadata": {
  "kernelspec": {
   "display_name": "lsst-scipipe-9.0.0",
   "language": "python",
   "name": "python3"
  },
  "language_info": {
   "codemirror_mode": {
    "name": "ipython",
    "version": 3
   },
   "file_extension": ".py",
   "mimetype": "text/x-python",
   "name": "python",
   "nbconvert_exporter": "python",
   "pygments_lexer": "ipython3",
   "version": "3.11.11"
  }
 },
 "nbformat": 4,
 "nbformat_minor": 2
}
