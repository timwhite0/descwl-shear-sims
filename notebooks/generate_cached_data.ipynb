{
 "cells": [
  {
   "cell_type": "code",
   "execution_count": 1,
   "metadata": {},
   "outputs": [],
   "source": [
    "import os\n",
    "\n",
    "import torch\n",
    "\n",
    "import numpy as np\n",
    "import matplotlib.pyplot as plt\n",
    "\n",
    "from descwl_shear_sims.galaxies import FixedGalaxyCatalog\n",
    "from descwl_shear_sims.galaxies import WLDeblendGalaxyCatalog\n",
    "from descwl_shear_sims.stars import StarCatalog\n",
    "\n",
    "from descwl_shear_sims.sim import make_sim\n",
    "\n",
    "from descwl_shear_sims.psfs import make_fixed_psf\n",
    "from descwl_shear_sims.psfs import make_ps_psf\n",
    "\n",
    "from descwl_shear_sims.sim import get_se_dim"
   ]
  },
  {
   "cell_type": "markdown",
   "metadata": {},
   "source": [
    "1. Generate images and catalogs"
   ]
  },
  {
   "cell_type": "code",
   "execution_count": 2,
   "metadata": {},
   "outputs": [
    {
     "name": "stdout",
     "output_type": "stream",
     "text": [
      "trial: 1/2\n",
      "trial: 2/2\n"
     ]
    }
   ],
   "source": [
    "seed = 8312\n",
    "rng = np.random.RandomState(seed)\n",
    "\n",
    "ntrial = 2\n",
    "coadd_dim = 351\n",
    "buff = 50\n",
    "\n",
    "for trial in range(ntrial):\n",
    "    print('trial: %d/%d' % (trial+1, ntrial))\n",
    "\n",
    "    # galaxy catalog; you can make your own\n",
    "    galaxy_catalog = FixedGalaxyCatalog(\n",
    "        rng=rng,\n",
    "        coadd_dim=coadd_dim,\n",
    "        buff=buff,\n",
    "        layout='random',\n",
    "        mag=25,\n",
    "        hlr=1.0,\n",
    "    )\n",
    "\n",
    "    # make a constant gaussian psf\n",
    "    psf = make_fixed_psf(psf_type='gauss')\n",
    "\n",
    "    # generate some simulation data, with a particular shear\n",
    "\n",
    "    sim_data = make_sim(\n",
    "        rng=rng,\n",
    "        galaxy_catalog=galaxy_catalog,\n",
    "        coadd_dim=coadd_dim,\n",
    "        g1=0.02,\n",
    "        g2=0.00,\n",
    "        bands = ['r', 'i', 'z'],\n",
    "        psf=psf,\n",
    "    )"
   ]
  },
  {
   "cell_type": "markdown",
   "metadata": {},
   "source": [
    "2. Save the images and catalogs as tensors"
   ]
  },
  {
   "cell_type": "code",
   "execution_count": 3,
   "metadata": {},
   "outputs": [],
   "source": [
    "images = torch.tensor(sim_data['band_data']['r'][0].image.array)"
   ]
  },
  {
   "cell_type": "code",
   "execution_count": 4,
   "metadata": {},
   "outputs": [],
   "source": [
    "catalog = torch.zeros(1)"
   ]
  },
  {
   "cell_type": "markdown",
   "metadata": {},
   "source": [
    "3. Save the tensors to `/data/scratch/weak_lensing/descwl`"
   ]
  },
  {
   "cell_type": "code",
   "execution_count": 5,
   "metadata": {},
   "outputs": [],
   "source": [
    "torch.save(images, \"/data/scratch/weak_lensing/descwl/images.pt\")\n",
    "torch.save(catalog, \"/data/scratch/weak_lensing/descwl/catalog.pt\")"
   ]
  }
 ],
 "metadata": {
  "kernelspec": {
   "display_name": "base",
   "language": "python",
   "name": "python3"
  },
  "language_info": {
   "codemirror_mode": {
    "name": "ipython",
    "version": 3
   },
   "file_extension": ".py",
   "mimetype": "text/x-python",
   "name": "python",
   "nbconvert_exporter": "python",
   "pygments_lexer": "ipython3",
   "version": "3.11.11"
  }
 },
 "nbformat": 4,
 "nbformat_minor": 2
}
