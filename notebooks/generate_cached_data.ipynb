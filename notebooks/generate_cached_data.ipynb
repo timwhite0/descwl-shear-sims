{
 "cells": [
  {
   "cell_type": "code",
   "execution_count": 1,
   "metadata": {},
   "outputs": [],
   "source": [
    "import os\n",
    "\n",
    "import torch\n",
    "\n",
    "import numpy as np\n",
    "import matplotlib.pyplot as plt\n",
    "\n",
    "from descwl_shear_sims.galaxies import FixedGalaxyCatalog\n",
    "from descwl_shear_sims.galaxies import WLDeblendGalaxyCatalog\n",
    "from descwl_shear_sims.stars import StarCatalog\n",
    "\n",
    "from descwl_shear_sims.sim import make_sim\n",
    "\n",
    "from descwl_shear_sims.psfs import make_fixed_psf\n",
    "from descwl_shear_sims.psfs import make_ps_psf\n",
    "\n",
    "from descwl_shear_sims.sim import get_se_dim\n",
    "from tqdm import tqdm"
   ]
  },
  {
   "cell_type": "markdown",
   "metadata": {},
   "source": [
    "### 1. Generate images and catalogs"
   ]
  },
  {
   "cell_type": "markdown",
   "metadata": {},
   "source": [
    "Draw 200 values of shear1 (g1) and shear2 (g2) between -0.02 and 0.02. So either uniform on that interval or Normal(0, $0.01^2$).\n",
    "\n",
    "Generate 200 images of size 2048x2048 with those values of shear1 and shear2.\n",
    "\n",
    "Will have to refer to papers to determine simulation settings."
   ]
  },
  {
   "cell_type": "code",
   "execution_count": 2,
   "metadata": {},
   "outputs": [
    {
     "name": "stdout",
     "output_type": "stream",
     "text": [
      "trial: 1/2\n",
      "trial: 2/2\n"
     ]
    }
   ],
   "source": [
    "# Original Setting\n",
    "seed = 8312\n",
    "rng = np.random.RandomState(seed)\n",
    "\n",
    "\n",
    "# number of simulation trial\n",
    "ntrial = 2\n",
    "\n",
    "# size of the coadded image (in pixel)\n",
    "coadd_dim = 2038\n",
    "\n",
    "# buffer zone size (in pixel) around the image to prevent edge effects\n",
    "buff = 50\n",
    "\n",
    "for trial in range(ntrial):\n",
    "    print('trial: %d/%d' % (trial+1, ntrial))\n",
    "\n",
    "    # galaxy catalog; you can make your own\n",
    "    galaxy_catalog = FixedGalaxyCatalog(\n",
    "        rng=rng,\n",
    "        coadd_dim=coadd_dim,\n",
    "        buff=buff,\n",
    "        layout='random',\n",
    "        mag=25,\n",
    "        hlr=1.0,\n",
    "    )\n",
    "\n",
    "    # make a constant gaussian psf\n",
    "    psf = make_fixed_psf(psf_type='gauss')\n",
    "\n",
    "    # generate some simulation data, with a particular shear\n",
    "    sim_data = make_sim(\n",
    "        rng=rng,\n",
    "        galaxy_catalog=galaxy_catalog,\n",
    "        coadd_dim=coadd_dim,\n",
    "        g1=0.02,\n",
    "        g2=0.00,\n",
    "        bands = ['r', 'i', 'z'],\n",
    "        psf=psf,\n",
    "    )"
   ]
  },
  {
   "cell_type": "code",
   "execution_count": 3,
   "metadata": {},
   "outputs": [],
   "source": [
    "\n",
    "image = torch.tensor(sim_data['band_data']['r'][0].image.array)"
   ]
  },
  {
   "cell_type": "code",
   "execution_count": 6,
   "metadata": {},
   "outputs": [],
   "source": [
    "import os\n",
    "import torch\n",
    "\n",
    "# Target path\n",
    "save_dir = \"/data/scratch/taodingr/weak_lensing/descwl\"\n",
    "\n",
    "# Create the directory if it doesn't exist\n",
    "os.makedirs(save_dir, exist_ok=True)\n",
    "\n",
    "torch.save(image, \"/data/scratch/taodingr/weak_lensing/descwl/example_image.pt\")"
   ]
  },
  {
   "cell_type": "markdown",
   "metadata": {},
   "source": [
    "Generate `n = 200` images and catalogs, same setting with the example, modified sizes. Sample shears from $N(0, 0.01^2)$"
   ]
  },
  {
   "cell_type": "code",
   "execution_count": 3,
   "metadata": {},
   "outputs": [],
   "source": [
    "def Generate_single_img_catalog(ntrial, rng, mag, hlr, psf, morph, layout, coadd_dim, buff, sep, g1, g2, bands, noise_factor):\n",
    "    \"\"\"\n",
    "    Generate one gatalog and image\n",
    "\n",
    "    Input:\n",
    "    ntrial: \n",
    "        number of simulation trial\n",
    "    rng: np.random.RandomState\n",
    "        The random number generator\n",
    "    mag: float\n",
    "        Magnitude of all objects. Objects brighter than magntiude 17 (e.g., 14\n",
    "        since mags are opposite) tend to cause the Rubin Observatory science\n",
    "        pipeline detection algorithm to misdetect isolted objects in unphysical\n",
    "        ways. This effect causes the shear response to be non-linear and so\n",
    "        metadetect will fail. For this reason, you should use the default\n",
    "        magnitude of 17 or fainter for this kind of galaxy.\n",
    "    hlr: float\n",
    "        Half light radius of all objects\n",
    "    psf: GSObject or PowerSpectrumPSF\n",
    "        The psf object or power spectrum psf\n",
    "    morph: str\n",
    "        Galaxy morphology, 'exp', 'dev' or 'bd', 'bdk'.  Default 'exp'\n",
    "    layout: string | Layout, optional\n",
    "        The layout of objects, either 'grid' or 'random'\n",
    "    coadd_dim: int, optional\n",
    "        dimensions of the coadd\n",
    "    buff: int, optional\n",
    "        Buffer region with no objects, on all sides of image.  Ingored\n",
    "        for layout 'grid'.  Default 0.\n",
    "    pixel_scale: float, optional\n",
    "        pixel scale in arcsec\n",
    "    sep: float | None\n",
    "        Separation of galaxies in arcsec\n",
    "    g1: \n",
    "        shear distortions 1\n",
    "    g2: \n",
    "        shear distortions 2\n",
    "    bands: \n",
    "        the band\n",
    "    \n",
    "    Output: \n",
    "    simulated image tensor with size (num_of_bands, coadd_dim+10, coadd_dim-10)\n",
    "    \"\"\"\n",
    "    for trial in range(ntrial):\n",
    "        #print('trial: %d/%d' % (trial+1, ntrial))\n",
    "\n",
    "        # galaxy catalog; you can make your own\n",
    "        galaxy_catalog = FixedGalaxyCatalog(\n",
    "            rng=rng,\n",
    "            coadd_dim=coadd_dim,\n",
    "            buff=buff,\n",
    "            layout=layout,\n",
    "            mag=mag,\n",
    "            hlr=hlr,\n",
    "            morph=morph\n",
    "        )\n",
    "\n",
    "        # make a constant gaussian psf\n",
    "        psf = psf\n",
    "\n",
    "        # generate some simulation data, with a particular shear\n",
    "        sim_data = make_sim(\n",
    "            rng=rng,\n",
    "            galaxy_catalog=galaxy_catalog,\n",
    "            coadd_dim=coadd_dim,\n",
    "            g1=g1,\n",
    "            g2=g2,\n",
    "            bands = bands,\n",
    "            psf=psf,\n",
    "            noise_factor=noise_factor\n",
    "        )\n",
    "\n",
    "        images = []\n",
    "        for band in bands:\n",
    "            image_np = sim_data['band_data'][band][0].image.array\n",
    "            images.append(torch.tensor(image_np, dtype=torch.float32))\n",
    "            image_tensor = torch.stack(images, dim=0)  \n",
    "        \n",
    "        return image_tensor"
   ]
  },
  {
   "cell_type": "code",
   "execution_count": 4,
   "metadata": {},
   "outputs": [],
   "source": [
    "def Generate_img_catalog(num_data, ntrial, rng, mag, hlr, psf, morph, layout, coadd_dim, buff, sep, bands, noise_factor):\n",
    "    \"\"\"\n",
    "    Generate a number of catalogs and images\n",
    "\n",
    "    Input:\n",
    "    num_data: \n",
    "        number of images\n",
    "    ntrial: \n",
    "        number of simulation trial\n",
    "    rng: np.random.RandomState\n",
    "        The random number generator\n",
    "    mag: float\n",
    "        Magnitude of all objects. Objects brighter than magntiude 17 (e.g., 14\n",
    "        since mags are opposite) tend to cause the Rubin Observatory science\n",
    "        pipeline detection algorithm to misdetect isolted objects in unphysical\n",
    "        ways. This effect causes the shear response to be non-linear and so\n",
    "        metadetect will fail. For this reason, you should use the default\n",
    "        magnitude of 17 or fainter for this kind of galaxy.\n",
    "    hlr: float\n",
    "        Half light radius of all objects\n",
    "    psf: GSObject or PowerSpectrumPSF\n",
    "        The psf object or power spectrum psf\n",
    "    morph: str\n",
    "        Galaxy morphology, 'exp', 'dev' or 'bd', 'bdk'.  Default 'exp'\n",
    "    layout: string | Layout, optional\n",
    "        The layout of objects, either 'grid' or 'random'\n",
    "    coadd_dim: int, optional\n",
    "        dimensions of the coadd\n",
    "    buff: int, optional\n",
    "        Buffer region with no objects, on all sides of image.  Ingored\n",
    "        for layout 'grid'.  Default 0.\n",
    "    pixel_scale: float, optional\n",
    "        pixel scale in arcsec\n",
    "    sep: float | None\n",
    "        Separation of galaxies in arcsec\n",
    "    bands: \n",
    "        the band\n",
    "    noise_factor: float, optional\n",
    "        Factor by which to multiply the noise, default 1\n",
    "\n",
    "    Output:\n",
    "        images: images tensor (num_data, num_of_bands, coadd_dim+10, coadd_dim-10)\n",
    "        catalogs: dictionary containing generated shear values for g1 and g2\n",
    "    \"\"\"\n",
    "    # generate random shear values\n",
    "    # Draw from N(0, 0.01^2)\n",
    "    g1 = np.random.normal(loc=0.0, scale=0.01, size=num_data)\n",
    "    g2 = np.random.normal(loc=0.0, scale=0.01, size=num_data)\n",
    "\n",
    "    # Clip values to [-0.02, 0.02]\n",
    "    g1 = np.clip(g1, -0.02, 0.02)\n",
    "    g2 = np.clip(g2, -0.02, 0.02)\n",
    "\n",
    "    psf = make_fixed_psf(psf_type='gauss')\n",
    "\n",
    "    images_list = []\n",
    "    for iter in tqdm(range(num_data)):\n",
    "        single_image = Generate_single_img_catalog(ntrial, rng, mag, hlr, psf, morph, layout, coadd_dim, buff, sep, g1[iter], g2[iter], bands, noise_factor)\n",
    "        images_list.append(single_image)\n",
    "\n",
    "    catalogs = {\n",
    "        \"g1\": g1,\n",
    "        \"g2\": g2\n",
    "    }\n",
    "\n",
    "    images = torch.stack(images_list, dim=0)\n",
    "\n",
    "    return images, catalogs\n",
    "\n",
    "    "
   ]
  },
  {
   "cell_type": "code",
   "execution_count": 5,
   "metadata": {},
   "outputs": [],
   "source": [
    "# Default setting for the two function \n",
    "seed = None\n",
    "\n",
    "num_data = 200\n",
    "ntrial = 2\n",
    "rng = np.random.RandomState(seed)\n",
    "mag = 17.0\n",
    "hlr = 0.5\n",
    "psf = make_fixed_psf(psf_type='gauss')\n",
    "morph = 'exp'\n",
    "layout = None # 'random' or 'grid'\n",
    "coadd_dim = None # int\n",
    "buff = 0 \n",
    "sep = None \n",
    "bands = ['i']\n",
    "noise_factor = 1.0 \n"
   ]
  },
  {
   "cell_type": "code",
   "execution_count": 6,
   "metadata": {},
   "outputs": [
    {
     "name": "stderr",
     "output_type": "stream",
     "text": [
      "100%|██████████| 200/200 [27:27<00:00,  8.24s/it]\n"
     ]
    }
   ],
   "source": [
    "# Example Setting\n",
    "seed = 8312\n",
    "\n",
    "num_data = 200\n",
    "ntrial = 2\n",
    "rng = np.random.RandomState(seed)\n",
    "mag = 25\n",
    "hlr = 1.0\n",
    "psf = make_fixed_psf(psf_type='gauss')\n",
    "morph = 'exp'\n",
    "layout = 'random'\n",
    "coadd_dim = 2038\n",
    "buff = 50 \n",
    "sep = None \n",
    "bands = ['r', 'i', 'z']\n",
    "noise_factor = 1 \n",
    "\n",
    "\n",
    "images, catalogs = Generate_img_catalog(num_data, ntrial, rng, mag, hlr, psf, morph, layout, coadd_dim, buff, sep, bands, noise_factor)"
   ]
  },
  {
   "cell_type": "markdown",
   "metadata": {},
   "source": [
    "### 2. Save the images and catalogs as tensors"
   ]
  },
  {
   "cell_type": "markdown",
   "metadata": {},
   "source": [
    "The tensor of images should be # images x # bands x 2048 x 2048.\n",
    "\n",
    "Catalogs: As a first step, just store shear1 and shear2 in a dictionary."
   ]
  },
  {
   "cell_type": "code",
   "execution_count": 36,
   "metadata": {},
   "outputs": [
    {
     "data": {
      "text/plain": [
       "torch.Size([200, 3, 2048, 2048])"
      ]
     },
     "execution_count": 36,
     "metadata": {},
     "output_type": "execute_result"
    }
   ],
   "source": [
    "images.shape"
   ]
  },
  {
   "cell_type": "code",
   "execution_count": 37,
   "metadata": {},
   "outputs": [
    {
     "data": {
      "text/plain": [
       "{'g1': array([ 9.72779897e-04, -7.71915834e-03,  1.20102066e-02,  1.59860750e-02,\n",
       "         5.48684738e-03,  1.23090601e-02,  1.33663626e-02, -1.71942976e-02,\n",
       "         7.52089729e-04,  2.73219427e-03, -8.20979511e-03, -6.66936524e-03,\n",
       "        -1.74411034e-02, -4.82805953e-03,  1.22674728e-02, -1.50582384e-03,\n",
       "        -5.25710365e-03,  1.94809360e-03,  1.19324657e-02, -3.83923212e-03,\n",
       "         6.72602134e-03,  1.29600399e-02,  8.53371099e-03, -3.89582676e-03,\n",
       "        -1.00083489e-04,  1.19898384e-02,  1.12011870e-02,  6.80665739e-04,\n",
       "         9.73616317e-04, -5.63481363e-03, -7.89842971e-03,  1.36015584e-03,\n",
       "        -4.60488446e-03, -1.93125795e-03, -8.35731291e-03,  7.95011972e-03,\n",
       "        -7.51028385e-03, -3.57652578e-03,  2.34070279e-03,  9.77531468e-03,\n",
       "        -3.57395239e-03, -1.16387686e-02,  6.86084976e-03, -5.42430439e-03,\n",
       "        -7.41670413e-03, -5.92666816e-03,  2.00000000e-02,  7.36406161e-03,\n",
       "        -3.12778559e-03, -6.43615998e-03,  2.05987696e-03, -1.91242446e-03,\n",
       "        -1.03734295e-02, -1.28815313e-02,  6.70644573e-03, -4.59045431e-03,\n",
       "        -3.44152060e-03, -8.05505106e-03,  9.38001046e-03, -1.39691243e-02,\n",
       "         1.62589857e-02,  2.13562877e-03,  5.76731495e-03, -1.41029663e-02,\n",
       "         2.86678564e-03,  1.49203179e-02, -3.44343579e-03, -1.14892633e-02,\n",
       "         1.89119199e-02, -7.84954704e-04,  1.41972368e-02,  4.05567115e-04,\n",
       "         2.76061318e-03,  1.00571342e-02,  2.85349481e-03,  4.00672568e-03,\n",
       "        -6.99928432e-04, -2.13173182e-03, -1.23240236e-02, -3.25919533e-04,\n",
       "        -8.71445284e-04,  8.96476357e-03, -1.28005379e-02, -6.41422841e-03,\n",
       "        -9.54264568e-03,  3.82611541e-04,  3.78900921e-03,  7.08515533e-03,\n",
       "        -7.92513681e-05,  2.71072664e-03, -8.73594585e-03,  1.84167238e-03,\n",
       "         1.71977067e-02, -1.88513453e-03,  1.00751165e-03, -2.00000000e-02,\n",
       "        -6.90612928e-04, -8.51264909e-04,  8.66745351e-04, -8.78835359e-03,\n",
       "         5.27464517e-03,  9.66433713e-03,  8.56945085e-03,  1.35763670e-02,\n",
       "        -2.45778394e-03, -1.57670597e-03,  7.03711408e-03,  2.33231123e-03,\n",
       "         8.98959895e-04, -4.32521766e-03,  8.50621540e-03, -9.36337894e-03,\n",
       "         4.34956397e-03, -1.79235085e-03,  1.63342201e-02, -1.37206247e-02,\n",
       "        -1.08950621e-02,  3.18256276e-05, -1.31970650e-02,  3.48538530e-03,\n",
       "        -1.47105401e-02,  3.82547718e-03,  2.95295580e-03, -3.59107713e-03,\n",
       "        -2.31001575e-03,  4.74391223e-03,  8.09996349e-04, -1.05813746e-02,\n",
       "        -1.07467040e-03, -1.04593223e-02,  8.56316733e-04, -3.39276611e-03,\n",
       "        -6.36279000e-03, -5.27758851e-03, -7.61634642e-03, -8.97968799e-03,\n",
       "        -1.97981659e-03, -2.97027015e-03,  1.26480628e-02,  1.06495449e-02,\n",
       "         5.62568107e-04, -2.01027889e-03, -2.00000000e-02,  8.22870586e-03,\n",
       "        -1.81637961e-02,  1.81308937e-02,  6.66749583e-03,  3.27839188e-04,\n",
       "         2.00000000e-02, -4.00788693e-03,  8.88321691e-03,  2.59830333e-03,\n",
       "        -1.05231099e-02, -3.05403753e-03,  8.95441357e-03, -5.90481333e-03,\n",
       "        -7.08882814e-04,  7.46676680e-03, -8.66805639e-03, -1.11330126e-02,\n",
       "         1.19140113e-02,  1.76473943e-03, -1.08706325e-02, -1.86910132e-03,\n",
       "         5.09617899e-03, -4.56657911e-05,  6.15353225e-03, -2.89117092e-03,\n",
       "         5.36447377e-03,  7.74959427e-03,  2.25423233e-03, -7.94564151e-03,\n",
       "         1.42572654e-02, -6.62622853e-04,  2.50556444e-03,  1.07818018e-02,\n",
       "        -2.91399914e-03,  9.86410761e-03, -1.68117288e-02, -4.48462818e-03,\n",
       "        -4.50943997e-03, -5.07380861e-03, -1.04899240e-02, -1.42169013e-02,\n",
       "         5.87821719e-03,  4.12040283e-03,  1.35786858e-02,  8.82883725e-03,\n",
       "         8.61630312e-03, -1.21437547e-03,  1.20764387e-03,  1.69732565e-02,\n",
       "         5.07922640e-03, -7.81115501e-04, -2.00000000e-02,  8.61760812e-03,\n",
       "        -2.00000000e-02,  3.23064928e-03, -3.84605488e-03, -1.31765034e-02]),\n",
       " 'g2': array([-9.45552438e-03,  3.88214909e-03,  2.39475761e-03,  1.05039360e-02,\n",
       "        -4.24200724e-03,  8.35116299e-04,  2.86234110e-03,  1.28787515e-03,\n",
       "        -1.80946910e-02,  7.86300076e-03,  9.46371010e-04,  1.29063887e-02,\n",
       "         4.39323585e-03,  9.68387298e-03,  8.30523382e-03,  4.23369193e-03,\n",
       "         1.66395079e-02,  7.99419157e-03, -7.63061131e-03, -1.17696531e-02,\n",
       "         4.07708287e-03, -2.99914475e-04,  1.22686070e-02, -2.65444870e-03,\n",
       "         2.60442395e-03,  9.14486078e-03, -1.91768732e-02, -4.54187706e-04,\n",
       "        -6.30449396e-03, -5.60632976e-05, -7.18031943e-03,  6.01406609e-03,\n",
       "        -7.10492369e-03,  1.09838272e-02,  5.61402836e-03,  4.05983474e-03,\n",
       "        -1.18459287e-02, -5.88362971e-03,  2.80289594e-03,  8.10024513e-03,\n",
       "         9.23406985e-03,  5.41643745e-03, -9.99033484e-03, -8.40797760e-05,\n",
       "        -5.71182859e-03,  1.27362732e-03, -1.14044133e-03,  1.20145553e-02,\n",
       "        -1.12751191e-02, -4.86273151e-03,  6.52036681e-03, -1.09804530e-02,\n",
       "         1.89382123e-02, -1.50426073e-02,  7.95075481e-03, -4.24780050e-03,\n",
       "         4.46204621e-03,  1.99329992e-03, -1.48242721e-02, -1.36273294e-02,\n",
       "         3.95287577e-03, -3.11030427e-03, -2.00000000e-02, -7.56885508e-04,\n",
       "         6.31707193e-03,  5.67718861e-03,  7.90903964e-03, -5.17276927e-03,\n",
       "         1.60348351e-02,  5.34551990e-03, -7.30326038e-04,  5.88563349e-03,\n",
       "         8.07391259e-04,  2.00000000e-02, -7.49347770e-03,  1.57470074e-02,\n",
       "         7.32558581e-03, -1.06842464e-02,  4.59326775e-03, -2.00000000e-02,\n",
       "         1.31510517e-02, -8.05356427e-03, -4.33457262e-03,  9.72694673e-03,\n",
       "        -1.18544122e-02,  5.93796840e-04,  1.32978969e-02, -1.51547558e-02,\n",
       "        -5.06228310e-03, -5.11259195e-04,  1.75705763e-02, -1.39778393e-02,\n",
       "        -3.15986090e-03,  2.73090838e-03,  6.68271107e-03,  1.06322491e-02,\n",
       "        -1.25864078e-02,  2.36296608e-03,  1.71898809e-02,  1.19749225e-02,\n",
       "        -6.06067844e-03,  1.55016583e-02, -1.42536660e-02, -9.17427753e-03,\n",
       "         2.00000000e-02, -1.71794466e-02, -1.83445207e-02,  1.53958072e-02,\n",
       "        -3.16756302e-03, -1.84647504e-02, -9.21276260e-03,  1.03434130e-02,\n",
       "        -1.69848190e-02, -6.99900691e-04,  1.07726719e-03,  1.91961629e-02,\n",
       "        -1.61016975e-02,  6.45912023e-03, -1.21902809e-02, -1.24863047e-02,\n",
       "         1.49987355e-02,  2.14961535e-05,  1.11896850e-02, -1.05684094e-02,\n",
       "         1.66547169e-03,  7.09986353e-03, -9.78627773e-04,  3.58309266e-03,\n",
       "         5.68116296e-03, -2.04670947e-03,  3.74759067e-03,  1.53141173e-02,\n",
       "         7.90295604e-03, -7.11102591e-03, -1.42536141e-02,  3.29379706e-03,\n",
       "        -8.61302548e-03, -1.13693196e-04, -1.16218752e-02,  2.00000000e-02,\n",
       "        -9.22650531e-03, -1.05979025e-03, -3.35611827e-03,  1.64811908e-03,\n",
       "         1.11325844e-02,  4.62408748e-03, -1.11386218e-02,  2.83791126e-03,\n",
       "        -2.69945189e-03, -1.23868940e-03, -2.00000000e-02, -2.32676563e-03,\n",
       "         5.74112365e-03,  9.30615910e-03,  1.48126251e-02, -1.12065627e-02,\n",
       "        -1.43104751e-03,  8.52061712e-03, -1.28747176e-02,  8.20350947e-03,\n",
       "        -2.83134471e-03, -1.03307098e-02,  7.94300506e-03,  1.49871246e-02,\n",
       "         1.33065783e-02, -7.17125132e-03, -1.85747797e-03,  1.48401825e-02,\n",
       "         3.65729647e-03,  3.66057594e-03, -8.96148312e-04,  2.68916560e-03,\n",
       "         7.06148982e-03, -3.37634488e-04,  7.13206024e-03,  2.66618379e-03,\n",
       "         1.05395315e-02,  3.24616776e-03,  2.16061565e-03,  8.89810896e-03,\n",
       "        -8.14760806e-03,  3.07738697e-03,  1.92946473e-02,  3.82547877e-03,\n",
       "         7.17677688e-03,  2.36561487e-03,  1.25584187e-02, -1.92183536e-02,\n",
       "         1.03609259e-02, -1.15647379e-03, -1.25196902e-02, -6.27030629e-03,\n",
       "        -3.95060238e-03, -7.35480147e-03,  1.31728562e-02, -1.09471272e-02,\n",
       "        -5.98526362e-03, -1.31584057e-02, -4.76596840e-04,  1.28632548e-02])}"
      ]
     },
     "execution_count": 37,
     "metadata": {},
     "output_type": "execute_result"
    }
   ],
   "source": [
    "catalogs"
   ]
  },
  {
   "cell_type": "markdown",
   "metadata": {},
   "source": [
    "#### 3. Save the tensors to `/data/scratch/weak_lensing/descwl`"
   ]
  },
  {
   "cell_type": "code",
   "execution_count": 12,
   "metadata": {},
   "outputs": [
    {
     "ename": "RuntimeError",
     "evalue": "File /data/scratch/weak_lensing/descwl/images.pt cannot be opened.",
     "output_type": "error",
     "traceback": [
      "\u001b[31m---------------------------------------------------------------------------\u001b[39m",
      "\u001b[31mRuntimeError\u001b[39m                              Traceback (most recent call last)",
      "\u001b[36mCell\u001b[39m\u001b[36m \u001b[39m\u001b[32mIn[12]\u001b[39m\u001b[32m, line 11\u001b[39m\n\u001b[32m      8\u001b[39m os.makedirs(save_dir, exist_ok=\u001b[38;5;28;01mTrue\u001b[39;00m)\n\u001b[32m     10\u001b[39m \u001b[38;5;66;03m# Save the tensor\u001b[39;00m\n\u001b[32m---> \u001b[39m\u001b[32m11\u001b[39m \u001b[43mtorch\u001b[49m\u001b[43m.\u001b[49m\u001b[43msave\u001b[49m\u001b[43m(\u001b[49m\u001b[43mimages\u001b[49m\u001b[43m,\u001b[49m\u001b[43m \u001b[49m\u001b[33;43m\"\u001b[39;49m\u001b[33;43m/data/scratch/weak_lensing/descwl/images.pt\u001b[39;49m\u001b[33;43m\"\u001b[39;49m\u001b[43m)\u001b[49m\n\u001b[32m     12\u001b[39m torch.save(catalogs, \u001b[33m\"\u001b[39m\u001b[33m/data/scratch/weak_lensing/descwl/catalog.pt\u001b[39m\u001b[33m\"\u001b[39m)\n",
      "\u001b[36mFile \u001b[39m\u001b[32m/data/scratch/taodingr/lsst_stack/conda/envs/lsst-scipipe-9.0.0/lib/python3.11/site-packages/torch/serialization.py:651\u001b[39m, in \u001b[36msave\u001b[39m\u001b[34m(obj, f, pickle_module, pickle_protocol, _use_new_zipfile_serialization, _disable_byteorder_record)\u001b[39m\n\u001b[32m    648\u001b[39m _check_save_filelike(f)\n\u001b[32m    650\u001b[39m \u001b[38;5;28;01mif\u001b[39;00m _use_new_zipfile_serialization:\n\u001b[32m--> \u001b[39m\u001b[32m651\u001b[39m     \u001b[38;5;28;01mwith\u001b[39;00m \u001b[43m_open_zipfile_writer\u001b[49m\u001b[43m(\u001b[49m\u001b[43mf\u001b[49m\u001b[43m)\u001b[49m \u001b[38;5;28;01mas\u001b[39;00m opened_zipfile:\n\u001b[32m    652\u001b[39m         _save(obj, opened_zipfile, pickle_module, pickle_protocol, _disable_byteorder_record)\n\u001b[32m    653\u001b[39m         \u001b[38;5;28;01mreturn\u001b[39;00m\n",
      "\u001b[36mFile \u001b[39m\u001b[32m/data/scratch/taodingr/lsst_stack/conda/envs/lsst-scipipe-9.0.0/lib/python3.11/site-packages/torch/serialization.py:525\u001b[39m, in \u001b[36m_open_zipfile_writer\u001b[39m\u001b[34m(name_or_buffer)\u001b[39m\n\u001b[32m    523\u001b[39m \u001b[38;5;28;01melse\u001b[39;00m:\n\u001b[32m    524\u001b[39m     container = _open_zipfile_writer_buffer\n\u001b[32m--> \u001b[39m\u001b[32m525\u001b[39m \u001b[38;5;28;01mreturn\u001b[39;00m \u001b[43mcontainer\u001b[49m\u001b[43m(\u001b[49m\u001b[43mname_or_buffer\u001b[49m\u001b[43m)\u001b[49m\n",
      "\u001b[36mFile \u001b[39m\u001b[32m/data/scratch/taodingr/lsst_stack/conda/envs/lsst-scipipe-9.0.0/lib/python3.11/site-packages/torch/serialization.py:496\u001b[39m, in \u001b[36m_open_zipfile_writer_file.__init__\u001b[39m\u001b[34m(self, name)\u001b[39m\n\u001b[32m    494\u001b[39m     \u001b[38;5;28msuper\u001b[39m().\u001b[34m__init__\u001b[39m(torch._C.PyTorchFileWriter(\u001b[38;5;28mself\u001b[39m.file_stream))\n\u001b[32m    495\u001b[39m \u001b[38;5;28;01melse\u001b[39;00m:\n\u001b[32m--> \u001b[39m\u001b[32m496\u001b[39m     \u001b[38;5;28msuper\u001b[39m().\u001b[34m__init__\u001b[39m(\u001b[43mtorch\u001b[49m\u001b[43m.\u001b[49m\u001b[43m_C\u001b[49m\u001b[43m.\u001b[49m\u001b[43mPyTorchFileWriter\u001b[49m\u001b[43m(\u001b[49m\u001b[38;5;28;43mself\u001b[39;49m\u001b[43m.\u001b[49m\u001b[43mname\u001b[49m\u001b[43m)\u001b[49m)\n",
      "\u001b[31mRuntimeError\u001b[39m: File /data/scratch/weak_lensing/descwl/images.pt cannot be opened."
     ]
    }
   ],
   "source": [
    "import os\n",
    "import torch\n",
    "\n",
    "# Target path\n",
    "save_dir = \"/data/scratch/weak_lensing/descwl\"\n",
    "\n",
    "# Create the directory if it doesn't exist\n",
    "os.makedirs(save_dir, exist_ok=True)\n",
    "\n",
    "# Save the tensor\n",
    "torch.save(images, \"/data/scratch/taodingr/weak_lensing/descwl/images.pt\")\n",
    "torch.save(catalogs, \"/data/scratch/taodingr/weak_lensing/descwl/catalog.pt\")\n"
   ]
  },
  {
   "cell_type": "markdown",
   "metadata": {},
   "source": [
    "### Simulation setting in `Metadetection Weak Lensing for the Vera C. Rubin Observatory` by Sheldon et al."
   ]
  },
  {
   "cell_type": "markdown",
   "metadata": {},
   "source": [
    "- identical, round exponential, S/N = 10000\n",
    "\n",
    "- half light radius 0.5 arcsecond galaxies\n",
    "- placed in the grid layout \n",
    "- 9.5 arcsecond spacing, for a density of 40 per square arcminute\n",
    "- For computation efficiency, only use `i` band with a single image wraped to coadded frame\n",
    "- Fixed circular Moffat PSF with FWHM=0.8\n",
    "- a cut S/N > 10 to remove spurious detections\n",
    "\n"
   ]
  },
  {
   "cell_type": "code",
   "execution_count": 9,
   "metadata": {},
   "outputs": [
    {
     "name": "stderr",
     "output_type": "stream",
     "text": [
      "100%|██████████| 200/200 [04:40<00:00,  1.40s/it]\n"
     ]
    }
   ],
   "source": [
    "seed = 42\n",
    "\n",
    "num_data = 200\n",
    "ntrial = 2\n",
    "rng = np.random.RandomState(seed)\n",
    "mag = 25\n",
    "hlr = 0.5\n",
    "psf = make_fixed_psf(psf_type='moffat', psf_fwhm=0.8)\n",
    "morph = 'exp'\n",
    "layout = 'grid'\n",
    "coadd_dim = 2038\n",
    "buff = 1\n",
    "sep = 9.5\n",
    "bands = ['i']\n",
    "noise_factor=0.0001\n",
    "\n",
    "images_meta, catalogs_meta = Generate_img_catalog(num_data, ntrial, rng, mag, hlr, psf, morph, layout, coadd_dim, buff, sep, bands, noise_factor)"
   ]
  },
  {
   "cell_type": "code",
   "execution_count": 10,
   "metadata": {},
   "outputs": [
    {
     "data": {
      "text/plain": [
       "torch.Size([200, 1, 2048, 2048])"
      ]
     },
     "execution_count": 10,
     "metadata": {},
     "output_type": "execute_result"
    }
   ],
   "source": [
    "images_meta.shape"
   ]
  },
  {
   "cell_type": "markdown",
   "metadata": {},
   "source": [
    "### Simulation Settings in  `A differentiable perturbation-based weak lensing shear estimator`  by Li et al."
   ]
  },
  {
   "cell_type": "markdown",
   "metadata": {},
   "source": [
    "- Image pixel scale is set to 0.2 (default)\n",
    "\n",
    "- round Moffat PSF with FWHM=0.8 (the author also used HSC-like PSF with ellipticity $e_1 = 0.02, e_2 = -0.02$ to test the additive bias)\n",
    "\n",
    "- noise level matched the LSST 10 years setting (I assume default here)\n",
    "\n",
    "- use `'griz'` bands, same galaxy profiles and PSF across bands\n",
    "\n",
    "- noise variance are different across bands\n",
    "\n",
    "- no dithering (default)\n",
    "\n",
    "- coadd image with inverse variance weight of background noise\n",
    "\n",
    "The author also used following method to contrain shear bias, not sure whether the `descwl_shear_sims` package can accommodate\n",
    "\n",
    "- generate image pair for each galaxy with different shear ($g_1 = 0.02, g_2 = 0$) and ($g_1 = 0, g_2 = 0.02$)\n",
    "\n",
    "- For each pair, the image have same morphology and brightness, but orthogonal to each other.\n",
    "\n",
    "- galaxy density is about 230 spare $\\text{arcmin}^{-1}$\n"
   ]
  },
  {
   "cell_type": "code",
   "execution_count": 7,
   "metadata": {},
   "outputs": [
    {
     "name": "stderr",
     "output_type": "stream",
     "text": [
      "100%|██████████| 200/200 [37:14<00:00, 11.17s/it]\n"
     ]
    }
   ],
   "source": [
    "seed = 42\n",
    "\n",
    "num_data = 200\n",
    "ntrial = 2\n",
    "rng = np.random.RandomState(seed)\n",
    "mag = 17 # default\n",
    "hlr = 0.5 # default\n",
    "psf = make_fixed_psf(psf_type='moffat', psf_fwhm=0.8)\n",
    "morph = 'exp' # default\n",
    "layout = 'random' # use example setting\n",
    "coadd_dim = 2038\n",
    "buff = 1\n",
    "sep = None\n",
    "bands = ['g', 'r', 'i', 'z']\n",
    "noise_factor=1\n",
    "\n",
    "images_adp, catalogs_adp = Generate_img_catalog(num_data, ntrial, rng, mag, hlr, psf, morph, layout, coadd_dim, buff, sep, bands, noise_factor)"
   ]
  },
  {
   "cell_type": "code",
   "execution_count": 8,
   "metadata": {},
   "outputs": [
    {
     "data": {
      "text/plain": [
       "torch.Size([200, 4, 2048, 2048])"
      ]
     },
     "execution_count": 8,
     "metadata": {},
     "output_type": "execute_result"
    }
   ],
   "source": [
    "images_adp.shape"
   ]
  },
  {
   "cell_type": "markdown",
   "metadata": {},
   "source": [
    "### Simulation Settings in `Analytical Noise Bias Correction for Precise Weak Lensing Shear Inference` by Li et al."
   ]
  },
  {
   "cell_type": "markdown",
   "metadata": {},
   "source": [
    "- Constant shear $\\gamma_1 = \\pm 0.02$ (two shear or one shear?)\n",
    "\n",
    "- The simulation is divided into 10000 subfields for each test case, and each subfield is 0.06 square degrees.\n",
    "\n",
    "- creating a 90 degree rotated companion for each subfields\n",
    "\n",
    "- round Moffat PSF with FWHM=0.8\n",
    "\n",
    "- Applyed Gaussian noise after the background subtraction, to simulate the residual Poisson noise. done with package `WeakLensingDeblending`?\n",
    "\n",
    "- standardized the images to a consistent zero point of 30\n",
    "\n",
    "- use 'griz' bands\n",
    "\n",
    "- anticipated ten-year LSST noise levels (I assume default here)"
   ]
  },
  {
   "cell_type": "code",
   "execution_count": null,
   "metadata": {},
   "outputs": [],
   "source": [
    "seed = 42\n",
    "\n",
    "num_data = 200\n",
    "ntrial = 2\n",
    "rng = np.random.RandomState(seed)\n",
    "mag = 17 # default\n",
    "hlr = 0.5 # default\n",
    "psf = make_fixed_psf(psf_type='moffat', psf_fwhm=0.8)\n",
    "morph = 'exp' # default\n",
    "layout = 'random' # use example setting\n",
    "coadd_dim = 2038\n",
    "buff = 1\n",
    "sep = None\n",
    "bands = ['g', 'r', 'i', 'z']\n",
    "noise_factor=1\n",
    "\n",
    "images_adp, catalogs_adp = Generate_img_catalog(num_data, ntrial, rng, mag, hlr, psf, morph, layout, coadd_dim, buff, sep, bands, noise_factor)"
   ]
  }
 ],
 "metadata": {
  "kernelspec": {
   "display_name": "Python 3.11.12 ('lsst-scipipe-9.0.0': conda)",
   "language": "python",
   "name": "python3"
  },
  "language_info": {
   "codemirror_mode": {
    "name": "ipython",
    "version": 3
   },
   "file_extension": ".py",
   "mimetype": "text/x-python",
   "name": "python",
   "nbconvert_exporter": "python",
   "pygments_lexer": "ipython3",
   "version": "3.11.12"
  },
  "vscode": {
   "interpreter": {
    "hash": "05661e2ed18b2b324b566cbb49c03233be4b029eb9cae1efc0492d63406727d2"
   }
  }
 },
 "nbformat": 4,
 "nbformat_minor": 2
}
