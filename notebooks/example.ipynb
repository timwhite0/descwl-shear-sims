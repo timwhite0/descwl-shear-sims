{
 "cells": [
  {
   "cell_type": "markdown",
   "metadata": {},
   "source": [
    "We run the demo from the README of `descwl-shear-sims`:"
   ]
  },
  {
   "cell_type": "code",
   "execution_count": null,
   "metadata": {},
   "outputs": [],
   "source": [
    "import numpy as np\n",
    "\n",
    "# Galaxies with fixed size and flux\n",
    "from descwl_shear_sims.galaxies import FixedGalaxyCatalog\n",
    "\n",
    "from descwl_shear_sims.sim import make_sim\n",
    "\n",
    "# convenience function to make a PSF\n",
    "from descwl_shear_sims.psfs import make_fixed_psf\n",
    "\n",
    "seed = 8312\n",
    "rng = np.random.RandomState(seed)\n",
    "\n",
    "ntrial = 2\n",
    "coadd_dim = 351\n",
    "buff = 50\n",
    "\n",
    "for trial in range(ntrial):\n",
    "    print('trial: %d/%d' % (trial+1, ntrial))\n",
    "\n",
    "    # galaxy catalog; you can make your own\n",
    "    galaxy_catalog = FixedGalaxyCatalog(\n",
    "        rng=rng,\n",
    "        coadd_dim=coadd_dim,\n",
    "        buff=buff,\n",
    "        layout='random',\n",
    "        mag=25,\n",
    "        hlr=1.0,\n",
    "    )\n",
    "\n",
    "    # make a constant gaussian psf\n",
    "    psf = make_fixed_psf(psf_type='gauss')\n",
    "\n",
    "    # generate some simulation data, with a particular shear\n",
    "\n",
    "    sim_data = make_sim(\n",
    "        rng=rng,\n",
    "        galaxy_catalog=galaxy_catalog,\n",
    "        coadd_dim=coadd_dim,\n",
    "        g1=0.02,\n",
    "        g2=0.00,\n",
    "        psf=psf,\n",
    "    )\n",
    "\n",
    "    # get the first i band exposure\n",
    "    sim_data['band_data']['i'][0]\n",
    "\n",
    "    # full list of outputs in the dictionary\n",
    "    # sim_data: dict\n",
    "    #     band_data: a dict keyed by band name, holding a list of Exposure\n",
    "    #        objects\n",
    "    #     coadd_wcs: lsst.afw.geom.makeSkyWcs\n",
    "    #     psf_dims: (int, int)\n",
    "    #     coadd_dims: (int, int)\n",
    "    #     coadd_bbox: lsst.geom.Box2I\n",
    "    #     bright_info: structured array\n",
    "    #         fields are\n",
    "    #         ra, dec: sky position of bright stars\n",
    "    #         radius_pixels: radius of mask in pixels\n",
    "    #         has_bleed: bool, True if there is a bleed trail\n",
    "    #     se_wcs: list of WCS"
   ]
  }
 ],
 "metadata": {
  "kernelspec": {
   "display_name": "Python 3",
   "language": "python",
   "name": "python3"
  },
  "language_info": {
   "codemirror_mode": {
    "name": "ipython",
    "version": 3
   },
   "file_extension": ".py",
   "mimetype": "text/x-python",
   "name": "python",
   "nbconvert_exporter": "python",
   "pygments_lexer": "ipython3",
   "version": "3.12.9"
  }
 },
 "nbformat": 4,
 "nbformat_minor": 2
}
